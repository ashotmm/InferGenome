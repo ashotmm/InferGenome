{
 "cells": [
  {
   "cell_type": "code",
   "execution_count": 1,
   "metadata": {
    "collapsed": true
   },
   "outputs": [],
   "source": [
    "def inferGenome(input_file, output_file, p01, p10, p1):\n",
    "    \n",
    "# Count the number of lines in the input file as input_file_len\n",
    "    input_file_len = 0\n",
    "    with open(input_file) as x:\n",
    "        for i, j in enumerate(x):\n",
    "            input_file_len += 1\n",
    "\n",
    "# Initialize the lists to their maximum possible length, given the max read length of 1000    \n",
    "    sequence_1 = [0 for i in range(0, input_file_len + 1000)] # list to count the number of 1's at every position in the sequence\n",
    "    sequence_0 = [0 for i in range(0, input_file_len + 1000)] # list to count the number of 0's at every position in the sequence\n",
    "    posteriors = [0 for i in range(0, input_file_len + 1000)] # list to output posteriors\n",
    "    sequence_length = 0 # total sequence length\n",
    "\n",
    "# Read input file and count number of 1's and 0's at every position\n",
    "# Input file is in format: (start position) (tab) (read sequence)\n",
    "    with open(input_file) as x:\n",
    "        for line in x:        \n",
    "            segment = line.split(\"\\t\") # parse the line on tab character\n",
    "            read = list(segment[1]) # convert read sequence of 0's and 1's into a list\n",
    "            read = read[:-1] # drop the EOL \"\\n\" character\n",
    "            \n",
    "            for j in range(len(read)):\n",
    "                if int(read[j]) == 1:\n",
    "                    sequence_1[int(segment[0]) + j] += 1\n",
    "                if int(read[j]) == 0:\n",
    "                    sequence_0[int(segment[0]) + j] += 1\n",
    "\n",
    "            temp_sequence_length = int(segment[0]) + len(read)\n",
    "            if temp_sequence_length > sequence_length:\n",
    "                sequence_length = temp_sequence_length\n",
    "\n",
    "    del sequence_1[sequence_length:]  # truncate lists to actual sequence length\n",
    "    del sequence_0[sequence_length:]\n",
    "    del posteriors[sequence_length:]\n",
    "                \n",
    "# Calculate posteriors using Bayes's theorem    \n",
    "    for k in range(sequence_length):\n",
    "        p_obs_1 = ((1 - p10)**sequence_1[k]) * p10**sequence_0[k]\n",
    "        p_obs_0 = (p01**sequence_1[k]) * ((1 - p01)**sequence_0[k])\n",
    "        p_obs = p_obs_1 * p1 + p_obs_0 * (1-p1)\n",
    "        posteriors[k] = (p_obs_1 * p1) / p_obs # Bayes theorem\n",
    "        posteriors[k] = round(posteriors[k], 3)\n",
    "\n",
    "# Save posteriors to output file\n",
    "# Output file is in format: (position) (tab) (posterior probability)\n",
    "    with open(output_file, \"w\") as x:\n",
    "        for k in range(sequence_length):\n",
    "            x.write(str(k) + \"\\t\" + str(posteriors[k]) + \"\\n\")"
   ]
  },
  {
   "cell_type": "code",
   "execution_count": 2,
   "metadata": {
    "collapsed": true
   },
   "outputs": [],
   "source": [
    "inferGenome(\"C:/example.sham\", \"C:/output.tsv\", 0.1, 0.1, 0.5)"
   ]
  }
 ],
 "metadata": {
  "kernelspec": {
   "display_name": "Python 3",
   "language": "python",
   "name": "python3"
  },
  "language_info": {
   "codemirror_mode": {
    "name": "ipython",
    "version": 3
   },
   "file_extension": ".py",
   "mimetype": "text/x-python",
   "name": "python",
   "nbconvert_exporter": "python",
   "pygments_lexer": "ipython3",
   "version": "3.5.2"
  }
 },
 "nbformat": 4,
 "nbformat_minor": 2
}
